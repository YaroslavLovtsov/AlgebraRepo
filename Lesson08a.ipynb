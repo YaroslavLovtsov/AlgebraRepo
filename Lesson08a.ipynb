{
  "nbformat": 4,
  "nbformat_minor": 0,
  "metadata": {
    "colab": {
      "name": "Lesson08a.ipynb",
      "provenance": [],
      "collapsed_sections": []
    },
    "kernelspec": {
      "name": "python3",
      "display_name": "Python 3"
    },
    "language_info": {
      "name": "python"
    }
  },
  "cells": [
    {
      "cell_type": "markdown",
      "metadata": {
        "id": "iR6gk3gqckxc"
      },
      "source": [
        "1. Найти с помощью NumPy SVD для матрицы\n",
        "\n",
        "$$\\begin{pmatrix}\n",
        "1 & 2 & 0\\\\ \n",
        "0 & 0 & 5\\\\ \n",
        "3 & -4 & 2\\\\ \n",
        "1 & 6 & 5\\\\ \n",
        "0 & 1 & 0\n",
        "\\end{pmatrix}.$$\n",
        "\n",
        "\n"
      ]
    },
    {
      "cell_type": "code",
      "metadata": {
        "colab": {
          "base_uri": "https://localhost:8080/"
        },
        "id": "vtJ0zo7tckCp",
        "outputId": "ebb2345a-2552-43bd-ed91-0f8efcbb3e41"
      },
      "source": [
        "import numpy as np\n",
        "np.set_printoptions(precision=3, suppress=True)\n",
        "\n",
        "A = np.array([[1,2,0],[0,0,5],[3,4,-2],[1,6,5],[0,1,0]])\n",
        "\n",
        "U, s, W = np.linalg.svd(A)\n",
        "\n",
        "# Транспонируем матрицу W\n",
        "V = W.T\n",
        "\n",
        "# s - список диагональных элементов, его нужно привести к виду диагональной матрицы для наглядности\n",
        "D = np.zeros_like(A, dtype=float)\n",
        "D[np.diag_indices(min(A.shape))] = s\n",
        "\n",
        "print(f'Матрица U:\\n{U}')\n",
        "print(f'Матрица D:\\n{D}')\n",
        "print(f'Матрица V:\\n{V}')"
      ],
      "execution_count": 3,
      "outputs": [
        {
          "output_type": "stream",
          "text": [
            "Матрица U:\n",
            "[[ 0.192 -0.226  0.071 -0.902 -0.307]\n",
            " [ 0.345  0.606  0.678 -0.097  0.211]\n",
            " [ 0.269 -0.756  0.526  0.237  0.152]\n",
            " [ 0.874  0.051 -0.417  0.191 -0.15 ]\n",
            " [ 0.084 -0.082 -0.292 -0.292  0.903]]\n",
            "Матрица D:\n",
            "[[8.974 0.    0.   ]\n",
            " [0.    6.292 0.   ]\n",
            " [0.    0.    1.372]\n",
            " [0.    0.    0.   ]\n",
            " [0.    0.    0.   ]]\n",
            "Матрица V:\n",
            "[[ 0.209 -0.389  0.897]\n",
            " [ 0.757 -0.517 -0.4  ]\n",
            " [ 0.62   0.763  0.186]]\n"
          ],
          "name": "stdout"
        }
      ]
    },
    {
      "cell_type": "markdown",
      "metadata": {
        "id": "ObtnzAx_cmaS"
      },
      "source": [
        "2. Для матрицы из предыдущего задания найти:\n",
        "\n",
        "    а) евклидову норму;\n",
        "    \n",
        "    б) норму Фробениуса.\n",
        "\n",
        "**Решение**\n",
        "\n",
        "а) $\\|A\\|_E = \\mu_1 = 8.974$\n",
        "\n",
        "б) $\\|A\\|_E = \\sqrt{\\mu_1^2 + \\mu_2^2 + \\mu_3^2} = 11.046$"
      ]
    }
  ]
}