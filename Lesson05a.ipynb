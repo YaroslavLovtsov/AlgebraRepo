{
  "nbformat": 4,
  "nbformat_minor": 0,
  "metadata": {
    "colab": {
      "name": "Lesson05a.ipynb",
      "provenance": [],
      "collapsed_sections": []
    },
    "kernelspec": {
      "name": "python3",
      "display_name": "Python 3"
    },
    "language_info": {
      "name": "python"
    }
  },
  "cells": [
    {
      "cell_type": "markdown",
      "metadata": {
        "id": "OprhasKYxST7"
      },
      "source": [
        "##Урок 5"
      ]
    },
    {
      "cell_type": "markdown",
      "metadata": {
        "id": "XUnHCsvsxTn_"
      },
      "source": [
        "__1.__ Найти собственные векторы и собственные значения для линейного оператора, заданного матрицей\n",
        "\n",
        "$$A=\\begin{pmatrix}\n",
        "-1 & -6\\\\ \n",
        "~~~2 & ~~~6\n",
        "\\end{pmatrix}.$$\n",
        "\n",
        "**Решение**\n",
        "\n",
        "$$\\begin{vmatrix}\n",
        "-1 - \\lambda & -6\\\\ \n",
        "2 & 6 - \\lambda\n",
        "\\end{vmatrix} = \\lambda^2 - 5\\lambda + 6 = 0$$\n",
        " \n",
        " $$\\lambda_1 = 2, ~ \\lambda_2 = 3$$\n",
        "\n",
        " 1. $\\lambda_1 = 2$:\n",
        "\n",
        " $$\\begin{pmatrix}\n",
        "-3 & -6\\\\ \n",
        "~~~2 & ~~~4\n",
        "\\end{pmatrix} \\cdot x^T = \\begin{pmatrix}\n",
        "0\\\\ \n",
        "0\n",
        "\\end{pmatrix}$$\n",
        "\n",
        "$x_1 = (2, -1)$\n",
        "\n",
        "2. $\\lambda_2 = 3$\n",
        "\n",
        "$$\\begin{pmatrix}\n",
        "-4 & -6\\\\ \n",
        "~~~2 & ~~~3\n",
        "\\end{pmatrix} \\cdot x^T = \\begin{pmatrix}\n",
        "0\\\\ \n",
        "0\n",
        "\\end{pmatrix}$$\n",
        "\n",
        "$x_2 = (3, -2)$"
      ]
    },
    {
      "cell_type": "markdown",
      "metadata": {
        "id": "PC3V-PMExhOW"
      },
      "source": [
        "__2.__ Дан оператор поворота на 180 градусов, задаваемый матрицей \n",
        "\n",
        "$$A=\\begin{pmatrix}\n",
        "-1 & ~~~0\\\\ \n",
        "~~~0 & -1\n",
        "\\end{pmatrix}.$$\n",
        "\n",
        "Показать, что __любой__ вектор является для него собственным.\n",
        "\n",
        "**Решение**\n",
        "\n",
        "Пусть $x = (a_1, a_2)$\n",
        "\n",
        "$$\\begin{pmatrix}\n",
        "-1 & ~~~0\\\\ \n",
        "~~~0 & -1\n",
        "\\end{pmatrix}\\cdot x^T = \\begin{pmatrix}\n",
        "-1 & ~~~0\\\\ \n",
        "~~~0 & -1\n",
        "\\end{pmatrix}\\cdot \\begin{pmatrix}\n",
        "a_1\\\\ \n",
        "a_2\n",
        "\\end{pmatrix} = \\begin{pmatrix}\n",
        "- a_1\\\\ \n",
        "- a_2\n",
        "\\end{pmatrix} = -1 \\cdot \\begin{pmatrix}\n",
        "a_1\\\\ \n",
        "a_2\n",
        "\\end{pmatrix} $$\n",
        "\n",
        "Таким образом, $A \\cdot x^T = -1 \\cdot x^T$, т.е. любой вектор является собственным для $\\lambda = -1$"
      ]
    },
    {
      "cell_type": "markdown",
      "metadata": {
        "id": "cFcgxpmyxdx4"
      },
      "source": [
        "__3.__ Пусть линейный оператор задан матрицей\n",
        "\n",
        "$$A=\\begin{pmatrix}\n",
        "~~~1 & 1\\\\ \n",
        "-1 & 3\n",
        "\\end{pmatrix}.$$\n",
        "\n",
        "Установить, является ли вектор $x=(1,1)$ собственным вектором этого линейного оператора.\n",
        "\n",
        "**Решение**\n",
        "\n",
        "$$A \\cdot x^T = \\begin{pmatrix}\n",
        "~~~1 & 1\\\\ \n",
        "-1 & 3\n",
        "\\end{pmatrix} \\cdot \\begin{pmatrix}\n",
        "1 \\\\\n",
        "1\n",
        "\\end{pmatrix} = \\begin{pmatrix}\n",
        "2 \\\\\n",
        "2\n",
        "\\end{pmatrix} = 2 \\cdot \\begin{pmatrix}\n",
        "1 \\\\\n",
        "1\n",
        "\\end{pmatrix}$$\n",
        "\n",
        "Таким образом, $A \\cdot x^T = 2 \\cdot x^T$, т.е. вектор $x$ является собственным для $\\lambda = 2$"
      ]
    },
    {
      "cell_type": "markdown",
      "metadata": {
        "id": "f315GhzhxY3a"
      },
      "source": [
        "__4.__ Пусть линейный оператор задан матрицей\n",
        "\n",
        "$$A=\\begin{pmatrix}\n",
        "0 & 3 & 0\\\\ \n",
        "3 & 0 & 0\\\\\n",
        "0 & 0 & 3\n",
        "\\end{pmatrix}.$$\n",
        "\n",
        "Установить, является ли вектор $x=(3, -3, -4)$ собственным вектором этого линейного оператора.\n",
        "\n",
        "**Решение**\n",
        "\n",
        "$$A \\cdot x^T = \\begin{pmatrix}\n",
        "0 & 3 & 0\\\\ \n",
        "3 & 0 & 0\\\\\n",
        "0 & 0 & 3\n",
        "\\end{pmatrix} \\cdot \\begin{pmatrix}\n",
        "~~~3\\\\ \n",
        "-3\\\\\n",
        "-4\n",
        "\\end{pmatrix} = \\begin{pmatrix}\n",
        "-9\\\\ \n",
        "~~~9\\\\\n",
        "-12\n",
        "\\end{pmatrix}$$\n",
        "\n",
        "Векторы $x^T$ и $A \\cdot x^T$ линейно независимы. $x$ не является собственным вектором матрицы $A$"
      ]
    }
  ]
}